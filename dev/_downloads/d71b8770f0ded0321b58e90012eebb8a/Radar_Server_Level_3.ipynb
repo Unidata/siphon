{
  "cells": [
    {
      "cell_type": "markdown",
      "metadata": {},
      "source": [
        "\n# TDS Radar Query Service\n\nUse Siphon to get NEXRAD Level 3 data from a TDS.\n"
      ]
    },
    {
      "cell_type": "code",
      "execution_count": null,
      "metadata": {
        "collapsed": false
      },
      "outputs": [],
      "source": [
        "from datetime import datetime, timezone\n\nimport matplotlib.pyplot as plt\nimport numpy as np\n\nfrom siphon.cdmr import Dataset\nfrom siphon.radarserver import get_radarserver_datasets, RadarServer"
      ]
    },
    {
      "cell_type": "markdown",
      "metadata": {},
      "source": [
        "First, point to the top-level thredds radar server accessor to find what datasets are\navailable.\n\n"
      ]
    },
    {
      "cell_type": "code",
      "execution_count": null,
      "metadata": {
        "collapsed": false
      },
      "outputs": [],
      "source": [
        "ds = get_radarserver_datasets('http://thredds.ucar.edu/thredds/')\nprint(list(ds))"
      ]
    },
    {
      "cell_type": "markdown",
      "metadata": {},
      "source": [
        "Now create an instance of RadarServer to point to the appropriate\nradar server access URL. This is pulled from the catalog reference url.\n\n"
      ]
    },
    {
      "cell_type": "code",
      "execution_count": null,
      "metadata": {
        "collapsed": false
      },
      "outputs": [],
      "source": [
        "url = ds['NEXRAD Level III Radar from IDD'].follow().catalog_url\nrs = RadarServer(url)"
      ]
    },
    {
      "cell_type": "markdown",
      "metadata": {},
      "source": [
        "Look at the variables available in this dataset\n\n"
      ]
    },
    {
      "cell_type": "code",
      "execution_count": null,
      "metadata": {
        "collapsed": false
      },
      "outputs": [],
      "source": [
        "print(rs.variables)"
      ]
    },
    {
      "cell_type": "markdown",
      "metadata": {},
      "source": [
        "Create a new query object to help request the data. Using the chaining\nmethods, ask for data from radar CYS (Cheyenne) for now for the product\nN0B, which is reflectivity data for the lowest tilt. We see that when the query\nis represented as a string, it shows the encoded URL.\n\n"
      ]
    },
    {
      "cell_type": "code",
      "execution_count": null,
      "metadata": {
        "collapsed": false
      },
      "outputs": [],
      "source": [
        "query = rs.query()\nquery.stations('CYS').time(datetime.now(timezone.utc)).variables('N0B')"
      ]
    },
    {
      "cell_type": "markdown",
      "metadata": {},
      "source": [
        "We can use the RadarServer instance to check our query, to make\nsure we have required parameters and that we have chosen valid\nstation(s) and variable(s)\n\n"
      ]
    },
    {
      "cell_type": "code",
      "execution_count": null,
      "metadata": {
        "collapsed": false
      },
      "outputs": [],
      "source": [
        "rs.validate_query(query)"
      ]
    },
    {
      "cell_type": "markdown",
      "metadata": {},
      "source": [
        "Make the request, which returns an instance of TDSCatalog. This\nhandles parsing the catalog\n\n"
      ]
    },
    {
      "cell_type": "code",
      "execution_count": null,
      "metadata": {
        "collapsed": false
      },
      "outputs": [],
      "source": [
        "catalog = rs.get_catalog(query)"
      ]
    },
    {
      "cell_type": "markdown",
      "metadata": {},
      "source": [
        "We can look at the datasets on the catalog to see what data we found by the query. We\nfind one NIDS file in the return.\n\n"
      ]
    },
    {
      "cell_type": "code",
      "execution_count": null,
      "metadata": {
        "collapsed": false
      },
      "outputs": [],
      "source": [
        "print(catalog.datasets)"
      ]
    },
    {
      "cell_type": "markdown",
      "metadata": {},
      "source": [
        "We can pull that dataset out of the dictionary and look at the available access URLs.\nWe see URLs for OPeNDAP, CDMRemote, and HTTPServer (direct download).\n\n"
      ]
    },
    {
      "cell_type": "code",
      "execution_count": null,
      "metadata": {
        "collapsed": false
      },
      "outputs": [],
      "source": [
        "ds = list(catalog.datasets.values())[0]\nprint(ds.access_urls)"
      ]
    },
    {
      "cell_type": "markdown",
      "metadata": {},
      "source": [
        "We'll use the CDMRemote reader in Siphon and pass it the appropriate access URL.\n\n"
      ]
    },
    {
      "cell_type": "code",
      "execution_count": null,
      "metadata": {
        "collapsed": false
      },
      "outputs": [],
      "source": [
        "data = Dataset(ds.access_urls['CdmRemote'])"
      ]
    },
    {
      "cell_type": "markdown",
      "metadata": {},
      "source": [
        "The CDMRemote reader provides an interface that is almost identical to the usual python\nNetCDF interface. We pull out the variables we need for azimuth and range, as well as\nthe data itself.\n\n"
      ]
    },
    {
      "cell_type": "code",
      "execution_count": null,
      "metadata": {
        "collapsed": false
      },
      "outputs": [],
      "source": [
        "rng = data.variables['gate'][:] / 1000.\naz = data.variables['azimuth'][:]\nref = data.variables['BaseReflectivityDR'][:]"
      ]
    },
    {
      "cell_type": "markdown",
      "metadata": {},
      "source": [
        "Need to adjust range and azimuth so that they bound the range gates rather than having\na single point at the start of the gate.\n\n"
      ]
    },
    {
      "cell_type": "code",
      "execution_count": null,
      "metadata": {
        "collapsed": false
      },
      "outputs": [],
      "source": [
        "rng = np.append(rng, rng[-1] - rng[-2])\ndiff = np.diff(az)\ndiff[diff > 180] -= 360.\ndiff[diff < -180] += 360.\navg_spacing = diff.mean()\naz = np.append(az, az[-1] + avg_spacing)"
      ]
    },
    {
      "cell_type": "markdown",
      "metadata": {},
      "source": [
        "Then convert the polar coordinates to Cartesian\n\n"
      ]
    },
    {
      "cell_type": "code",
      "execution_count": null,
      "metadata": {
        "collapsed": false
      },
      "outputs": [],
      "source": [
        "x = rng * np.sin(np.deg2rad(az))[:, None]\ny = rng * np.cos(np.deg2rad(az))[:, None]\nref = np.ma.array(ref, mask=np.isnan(ref))"
      ]
    },
    {
      "cell_type": "markdown",
      "metadata": {},
      "source": [
        "Finally, we plot them up using matplotlib.\n\n"
      ]
    },
    {
      "cell_type": "code",
      "execution_count": null,
      "metadata": {
        "collapsed": false
      },
      "outputs": [],
      "source": [
        "fig, ax = plt.subplots(1, 1, figsize=(9, 8))\nax.pcolormesh(x, y, ref)\nax.set_aspect('equal', 'datalim')\nax.set_xlim(-460, 460)\nax.set_ylim(-460, 460)\nplt.show()"
      ]
    }
  ],
  "metadata": {
    "kernelspec": {
      "display_name": "Python 3",
      "language": "python",
      "name": "python3"
    },
    "language_info": {
      "codemirror_mode": {
        "name": "ipython",
        "version": 3
      },
      "file_extension": ".py",
      "mimetype": "text/x-python",
      "name": "python",
      "nbconvert_exporter": "python",
      "pygments_lexer": "ipython3",
      "version": "3.11.11"
    }
  },
  "nbformat": 4,
  "nbformat_minor": 0
}