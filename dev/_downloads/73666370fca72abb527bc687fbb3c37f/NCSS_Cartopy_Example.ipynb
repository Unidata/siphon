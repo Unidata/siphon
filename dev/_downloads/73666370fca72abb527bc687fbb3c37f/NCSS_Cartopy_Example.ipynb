{
  "cells": [
    {
      "cell_type": "markdown",
      "metadata": {},
      "source": [
        "\n# NCSS and CartoPy\n\nUse Siphon to query the NetCDF Subset Service (NCSS) and plot on a map.\n\nThis example uses Siphon's NCSS class to provide temperature data\nfor contouring a basic map using CartoPy.\n"
      ]
    },
    {
      "cell_type": "code",
      "execution_count": null,
      "metadata": {
        "collapsed": false
      },
      "outputs": [],
      "source": [
        "from datetime import datetime, timezone\n\nimport cartopy.crs as ccrs\nimport cartopy.feature as cfeature\nimport matplotlib.pyplot as plt\nfrom netCDF4 import num2date\nimport numpy as np\n\nfrom siphon.catalog import TDSCatalog"
      ]
    },
    {
      "cell_type": "markdown",
      "metadata": {},
      "source": [
        "First we construct a `TDSCatalog` instance pointing to our dataset of interest, in\nthis case TDS' \"Best\" virtual dataset for the GFS global 0.25 degree collection of\nGRIB files. This will give us a good resolution for our map. This catalog contains a\nsingle dataset.\n\n"
      ]
    },
    {
      "cell_type": "code",
      "execution_count": null,
      "metadata": {
        "collapsed": false
      },
      "outputs": [],
      "source": [
        "best_gfs = TDSCatalog('http://thredds.ucar.edu/thredds/catalog/grib/NCEP/GFS/'\n                      'Global_0p25deg/catalog.xml?dataset=grib/NCEP/GFS/Global_0p25deg/Best')\nprint(list(best_gfs.datasets))"
      ]
    },
    {
      "cell_type": "markdown",
      "metadata": {},
      "source": [
        "We pull out this dataset and get the NCSS access point\n\n"
      ]
    },
    {
      "cell_type": "code",
      "execution_count": null,
      "metadata": {
        "collapsed": false
      },
      "outputs": [],
      "source": [
        "best_ds = best_gfs.datasets[0]\nncss = best_ds.subset()"
      ]
    },
    {
      "cell_type": "markdown",
      "metadata": {},
      "source": [
        "We can then use the `ncss` object to create a new query object, which\nfacilitates asking for data from the server.\n\n"
      ]
    },
    {
      "cell_type": "code",
      "execution_count": null,
      "metadata": {
        "collapsed": false
      },
      "outputs": [],
      "source": [
        "query = ncss.query()"
      ]
    },
    {
      "cell_type": "markdown",
      "metadata": {},
      "source": [
        "We construct a query asking for data corresponding to a latitude and longitude box where 43\nlat is the northern extent, 35 lat is the southern extent, -111 long is the western extent\nand -100 is the eastern extent. We request the data for the current time.\n\nWe also ask for NetCDF version 4 data, for the variable 'temperature_surface'. This request\nwill return all surface temperatures for points in our bounding box for a single time,\nnearest to that requested. Note the string representation of the query is a properly encoded\nquery string.\n\n"
      ]
    },
    {
      "cell_type": "code",
      "execution_count": null,
      "metadata": {
        "collapsed": false
      },
      "outputs": [],
      "source": [
        "query.lonlat_box(north=43, south=35, east=-100, west=-111).time(datetime.now(timezone.utc))\nquery.accept('netcdf4')\nquery.variables('Temperature_surface')"
      ]
    },
    {
      "cell_type": "markdown",
      "metadata": {},
      "source": [
        "We now request data from the server using this query. The `NCSS` class handles parsing\nthis NetCDF data (using the ``netCDF4`` module). If we print out the variable names, we see\nour requested variable, as well as the coordinate variables (needed to properly reference\nthe data).\n\n"
      ]
    },
    {
      "cell_type": "code",
      "execution_count": null,
      "metadata": {
        "collapsed": false
      },
      "outputs": [],
      "source": [
        "data = ncss.get_data(query)\nprint(list(data.variables))"
      ]
    },
    {
      "cell_type": "markdown",
      "metadata": {},
      "source": [
        "We'll pull out the useful variables for temperature, latitude, and longitude, and time\n(which is the time, in hours since the forecast run).\n\n"
      ]
    },
    {
      "cell_type": "code",
      "execution_count": null,
      "metadata": {
        "collapsed": false
      },
      "outputs": [],
      "source": [
        "temp_var = data.variables['Temperature_surface']\n\n# Time variables can be renamed in GRIB collections. Best to just pull it out of the\n# coordinates attribute on temperature\ntime_name = temp_var.coordinates.split()[1]\ntime_var = data.variables[time_name]\nlat_var = data.variables['latitude']\nlon_var = data.variables['longitude']"
      ]
    },
    {
      "cell_type": "markdown",
      "metadata": {},
      "source": [
        "Now we make our data suitable for plotting.\n\n"
      ]
    },
    {
      "cell_type": "code",
      "execution_count": null,
      "metadata": {
        "collapsed": false
      },
      "outputs": [],
      "source": [
        "# Get the actual data values and remove any size 1 dimensions\ntemp_vals = temp_var[:].squeeze()\nlat_vals = lat_var[:].squeeze()\nlon_vals = lon_var[:].squeeze()\n\n# Convert the number of hours since the reference time to an actual date\ntime_val = num2date(time_var[:].squeeze(), time_var.units, only_use_cftime_datetimes=False)\n\n# Convert temps to Fahrenheit from Kelvin\ntemp_vals = temp_vals * 1.8 - 459.67\n\n# Combine 1D latitude and longitudes into a 2D grid of locations\nlon_2d, lat_2d = np.meshgrid(lon_vals, lat_vals)"
      ]
    },
    {
      "cell_type": "markdown",
      "metadata": {},
      "source": [
        "Now we can plot these up using matplotlib and cartopy.\n\n"
      ]
    },
    {
      "cell_type": "code",
      "execution_count": null,
      "metadata": {
        "collapsed": false
      },
      "outputs": [],
      "source": [
        "# Create a new figure\nfig = plt.figure(figsize=(15, 12))\n\n# Add the map and set the extent\nax = plt.axes(projection=ccrs.PlateCarree())\nax.set_extent([-100., -111., 35, 43])\n\n# Add state boundaries to plot\nax.add_feature(cfeature.STATES.with_scale('50m'), linewidth=2)\n\n# Contour temperature at each lat/long\ncf = ax.contourf(lon_2d, lat_2d, temp_vals, 200, transform=ccrs.PlateCarree(), zorder=0,\n                 cmap='coolwarm')\n\n# Plot a colorbar to show temperature and reduce the size of it\nplt.colorbar(cf, ax=ax, fraction=0.032)\n\n# Make a title with the time value\nax.set_title(f'Temperature forecast (\\u00b0F) for {time_val: %d %B %Y %H%MZ}',\n             fontsize=20)\n\n# Plot markers for each lat/long to show grid points for 0.25 deg GFS\nax.plot(lon_2d.flatten(), lat_2d.flatten(), marker='o', color='black', markersize=2,\n        alpha=0.3, transform=ccrs.Geodetic(), zorder=2, linestyle='none')"
      ]
    }
  ],
  "metadata": {
    "kernelspec": {
      "display_name": "Python 3",
      "language": "python",
      "name": "python3"
    },
    "language_info": {
      "codemirror_mode": {
        "name": "ipython",
        "version": 3
      },
      "file_extension": ".py",
      "mimetype": "text/x-python",
      "name": "python",
      "nbconvert_exporter": "python",
      "pygments_lexer": "ipython3",
      "version": "3.11.11"
    }
  },
  "nbformat": 4,
  "nbformat_minor": 0
}