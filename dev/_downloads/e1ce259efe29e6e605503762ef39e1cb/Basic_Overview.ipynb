{
  "cells": [
    {
      "cell_type": "markdown",
      "metadata": {},
      "source": [
        "\n# Basic ACIS Web Services Usage\n\nSiphon's simplewebservice support also includes the ability to query the\nRegional Climate Centers' ACIS data servers. ACIS data provides daily records\nfor most station networks in the U.S. and is updated hourly.\n\nIn this example we will be querying the service for 20 years of temperature data\nfrom Denver International Airport.\n"
      ]
    },
    {
      "cell_type": "code",
      "execution_count": null,
      "metadata": {
        "collapsed": false
      },
      "outputs": [],
      "source": [
        "import matplotlib.pyplot as plt\n\nfrom siphon.simplewebservice.acis import acis_request"
      ]
    },
    {
      "cell_type": "markdown",
      "metadata": {},
      "source": [
        "First, we need to assemble a dictionary containing the information we want.\nFor this example we want the average temperature at Denver International (KDEN)\nfrom January 1, 1997 to December 1, 2017. While we could get the daily data,\nwe will instead request the monthly averages, which the remote service will\nfind for us.\n\n"
      ]
    },
    {
      "cell_type": "code",
      "execution_count": null,
      "metadata": {
        "collapsed": false
      },
      "outputs": [],
      "source": [
        "parameters = {'sid': 'KDEN', 'sdate': '19970101', 'edate': '20171231', 'elems': [\n    {'name': 'avgt', 'interval': 'mly', 'duration': 'mly', 'reduce': 'mean'}]}"
      ]
    },
    {
      "cell_type": "markdown",
      "metadata": {},
      "source": [
        "These parameters are used to specify what kind of data we want. We are\nformatting this as a dictionary, the acis_request function will handle the\nconversion of this into a JSON string for us!\n\nAs we explain how this dictionary is formatted, feel free to follow along\nusing the API documentation here :http://www.rcc-acis.org/docs_webservices.html\n\nThe first section of the parameters dictionary is focused on the station and\nperiod of interest. We have a 'sid' element where the airport identifier is,\nand sdate/edate which correspond to the starting and ending dates of the\nperiod of interest.\n\nThe 'elems' list contains individual dictionaries of elements (variables) of\ninterest. In this example we are requesting the average monthly temperature.\nIf we also wanted the minimum temperature, we would simply add an additional\ndictionary to the 'elems' list.\n\nNow that we have assembled our dictionary, we need to decide what type of\nrequest we are making. You can request meta data (information about the\nstation), station data (data from an individual station), data from multiple\nstations, or even images of pre-prepared data.\n\nIn this case we are interested in a single station, so we will be using the\nmethod set aside for this called, 'StnData'.\n\n"
      ]
    },
    {
      "cell_type": "code",
      "execution_count": null,
      "metadata": {
        "collapsed": false
      },
      "outputs": [],
      "source": [
        "method = 'StnData'"
      ]
    },
    {
      "cell_type": "markdown",
      "metadata": {},
      "source": [
        "Now that we have our request information ready, we can call the acis_request\nfunction and receive our data!\n\n"
      ]
    },
    {
      "cell_type": "code",
      "execution_count": null,
      "metadata": {
        "collapsed": false
      },
      "outputs": [],
      "source": [
        "my_data = acis_request(method, parameters)"
      ]
    },
    {
      "cell_type": "markdown",
      "metadata": {},
      "source": [
        "The data is also returned in a dictionary format, decoded from a JSON string.\n\n"
      ]
    },
    {
      "cell_type": "code",
      "execution_count": null,
      "metadata": {
        "collapsed": false
      },
      "outputs": [],
      "source": [
        "print(my_data)"
      ]
    },
    {
      "cell_type": "markdown",
      "metadata": {},
      "source": [
        "We can see there are two parts to this data: The metadata, and the data. The\nmetadata can be useful in mapping the observations (We'll do this in a later\nexample).\n\nTo wrap this example up, we are going to do a simple line graph of this 30\nyear temperature data using MatPlotLib! Notice that the data is decoded as\na string, so you should convert those back into numbers before use.\n\n* Note: Missing data is recorded as M!\n\n"
      ]
    },
    {
      "cell_type": "code",
      "execution_count": null,
      "metadata": {
        "collapsed": false
      },
      "outputs": [],
      "source": [
        "stn_name = my_data['meta']['name']\n\navgt = []\ndates = []\nfor obs in my_data['data']:\n    if obs[0].endswith('01'):\n        dates.append(obs[0])\n    else:\n        dates.append('')\n    avgt.append(float(obs[1]))\n\nX = list(range(len(avgt)))\n\nplt.title(stn_name)\nplt.ylabel('Average Temperature (F)')\nplt.plot(X, avgt)\nplt.xticks(X, dates, rotation=45)\n\nplt.show()"
      ]
    }
  ],
  "metadata": {
    "kernelspec": {
      "display_name": "Python 3",
      "language": "python",
      "name": "python3"
    },
    "language_info": {
      "codemirror_mode": {
        "name": "ipython",
        "version": 3
      },
      "file_extension": ".py",
      "mimetype": "text/x-python",
      "name": "python",
      "nbconvert_exporter": "python",
      "pygments_lexer": "ipython3",
      "version": "3.11.11"
    }
  },
  "nbformat": 4,
  "nbformat_minor": 0
}