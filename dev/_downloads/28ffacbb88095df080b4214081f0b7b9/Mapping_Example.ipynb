{
  "cells": [
    {
      "cell_type": "markdown",
      "metadata": {},
      "source": [
        "\n# Multi Station Calls and Mapping\n\nIn this example we will be using Siphon's simplewebservice support to query\nACIS Web Services for multiple stations. We will plot precipitation\nvalues recorded in Colorado and Wyoming during the 2013 flooding event.\n"
      ]
    },
    {
      "cell_type": "code",
      "execution_count": null,
      "metadata": {
        "collapsed": false
      },
      "outputs": [],
      "source": [
        "import cartopy.crs as ccrs\nimport cartopy.feature as feat\nimport matplotlib.pyplot as plt\n\nfrom siphon.simplewebservice.acis import acis_request"
      ]
    },
    {
      "cell_type": "markdown",
      "metadata": {},
      "source": [
        "First, we need to assemble a dictionary containing the information we want.\nIn this example we want multiple station information, which indicates we\nneed a MultiStnData call. Our event period spans from September 9 through\nSeptember 12, 2013. We know we are interested in precipitation totals,\nbut we are also going to take advantage of the long-term record in ACIS\nand ask it to return what the departure from normal precipitation was on\nthis day.\n\n"
      ]
    },
    {
      "cell_type": "code",
      "execution_count": null,
      "metadata": {
        "collapsed": false
      },
      "outputs": [],
      "source": [
        "parameters = {'state': 'co', 'sdate': '20130909', 'edate': '20130912', 'elems': [\n    {'name': 'pcpn', 'interval': 'dly'},\n    {'name': 'pcpn', 'interval': 'dly', 'normal': 'departure'}]}\n\nmethod = 'MultiStnData'"
      ]
    },
    {
      "cell_type": "markdown",
      "metadata": {},
      "source": [
        "In this case, rather than using station ID's, we are able to specify a new\nparameter called 'state'. If we were interested in other states, we could just\nadd another to the list like this: 'co,wy'. Also notice how we are getting\nboth the precipitation and departure from normal within one variable. We'll\nsee how this changes the final data dictionary. Now let's make our call and\nreview our data.\n\n"
      ]
    },
    {
      "cell_type": "code",
      "execution_count": null,
      "metadata": {
        "collapsed": false
      },
      "outputs": [],
      "source": [
        "my_data = acis_request(method, parameters)\n\nprint(my_data)"
      ]
    },
    {
      "cell_type": "markdown",
      "metadata": {},
      "source": [
        "MultiStnData calls take longer to return than single stations, especially when\nyou request multiple states. We can see the data is divided by station, with\neach station having it's own meta and data components. This time we also have\nmultiple values in each data list. Each value corresponds to the variable we\nrequested, in the order we requested it. So in this case, we have the\nprecipitation value, followed by the departure from normal value. Before we\nplot this information, we need to add up the precipitation sums. But rather\nthan doing it in Python, let's make another ACIS call that prepares this for\nus.\n\n"
      ]
    },
    {
      "cell_type": "code",
      "execution_count": null,
      "metadata": {
        "collapsed": false
      },
      "outputs": [],
      "source": [
        "parameters = {'state': 'co', 'sdate': '20130909', 'edate': '20130912', 'elems': [\n    {'name': 'pcpn', 'interval': 'dly', 'smry': 'sum', 'smry_only': 1},\n    {'name': 'pcpn', 'interval': 'dly', 'smry': 'sum', 'smry_only': 1, 'normal': 'departure'}]}\n\nmy_data = acis_request(method, parameters)\n\nprint(my_data)"
      ]
    },
    {
      "cell_type": "markdown",
      "metadata": {},
      "source": [
        "First of all, we have two new components to our elements: 'smry' and 'smry_only'.\n'smry' allows us to summarize the data over our time period. There are a few\noptions for this, including being able to count the number of records exceeding\na threshold (something we will explore in the next example). The other parameter,\n'smry_only', allows us to only return the summary value and not the intermediate\ndata.\n\nNow let's look at how our data has changed. Rather than having a just a 'meta'\nand 'data' component, we have a new one called 'smry'. As you've guessed,\nthis contains our summary information (also in the order we requested it).\nBy specifying 'smry_only', there is no 'data' component. If we also wanted\nall 4 days of data, we would simply remove that parameter.\n\nTo wrap up this example, we will finally plot our precipitation sums and\ndepartures onto a map using CartoPy. To do this we will utilize\nthe meta data that is provided with each station's data. Within the metadata\nis a 'll' element that contains the latitude and longitude, which is perfect\nfor plotting!\n\nOne final thing to note is that not all stations have location information.\nStations from the ThreadEx network cover general areas, and thus aren't\npackaged with precise latitudes and longitudes. We will skip them by\nidentifying their network ID of 9 in the ACIS metadata. Don't worry about\nlost information though! These summarize stations that already exist within\ntheir areas!\n\n"
      ]
    },
    {
      "cell_type": "code",
      "execution_count": null,
      "metadata": {
        "collapsed": false
      },
      "outputs": [],
      "source": [
        "lat = []\nlon = []\npcpn = []\npcpn_dep = []\n\nfor stn in my_data['data']:\n    # Skip threaded stations! They have no lat/lons\n    if stn['meta']['sids'][-1].endswith('9'):\n        continue\n    # Skip stations with missing or trace data\n    if stn['smry'][0] in ['M', 'T'] or stn['smry'][1] in ['M', 'T']:\n        continue\n\n    lat.append(stn['meta']['ll'][1])\n    lon.append(stn['meta']['ll'][0])\n    pcpn.append(float(stn['smry'][0]))\n    pcpn_dep.append(float(stn['smry'][1]))"
      ]
    },
    {
      "cell_type": "markdown",
      "metadata": {},
      "source": [
        "Now we setup our map and plot the data! We are going to plot the station\nlocations with a '+' symbol and label them with the precipitation value.\nWe will use the departures to set the departure from normal values where:\n* Departure < 0 is Red\n* Departure > 0 is Green\n* Departure > 2 is Magenta\n\nThis should help us visualize where the precipitation event was strongest!\n\n"
      ]
    },
    {
      "cell_type": "code",
      "execution_count": null,
      "metadata": {
        "collapsed": false
      },
      "outputs": [],
      "source": [
        "proj = ccrs.LambertConformal(central_longitude=-105, central_latitude=0,\n                             standard_parallels=[35])\n\nfig = plt.figure(figsize=(20, 10))\nax = fig.add_subplot(1, 1, 1, projection=proj)\n\nax.add_feature(feat.LAND, zorder=-1)\nax.add_feature(feat.OCEAN, zorder=-1)\nax.add_feature(feat.LAKES, zorder=-1)\nax.coastlines(resolution='110m', zorder=2, color='black')\nax.add_feature(feat.STATES, edgecolor='black')\nax.add_feature(feat.BORDERS, linewidth=2, edgecolor='black')\n\n# Set plot bounds\nax.set_extent((-109.9, -101.8, 36.5, 41.3))\n\n# Plot each station, labeling based on departure\nfor stn in range(len(pcpn)):\n    if pcpn_dep[stn] >= 0 and pcpn_dep[stn] < 2:\n        ax.plot(lon[stn], lat[stn], 'g+', markersize=7, transform=ccrs.Geodetic())\n        ax.text(lon[stn], lat[stn], pcpn[stn], transform=ccrs.Geodetic())\n    elif pcpn_dep[stn] >= 2:\n        ax.plot(lon[stn], lat[stn], 'm+', markersize=7, transform=ccrs.Geodetic())\n        ax.text(lon[stn], lat[stn], pcpn[stn], transform=ccrs.Geodetic())\n    elif pcpn_dep[stn] < 0:\n        ax.plot(lon[stn], lat[stn], 'r+', markersize=7, transform=ccrs.Geodetic())\n        ax.text(lon[stn], lat[stn], pcpn[stn], transform=ccrs.Geodetic())\nax.plot(pcpn)\n\nplt.show()"
      ]
    }
  ],
  "metadata": {
    "kernelspec": {
      "display_name": "Python 3",
      "language": "python",
      "name": "python3"
    },
    "language_info": {
      "codemirror_mode": {
        "name": "ipython",
        "version": 3
      },
      "file_extension": ".py",
      "mimetype": "text/x-python",
      "name": "python",
      "nbconvert_exporter": "python",
      "pygments_lexer": "ipython3",
      "version": "3.11.11"
    }
  },
  "nbformat": 4,
  "nbformat_minor": 0
}