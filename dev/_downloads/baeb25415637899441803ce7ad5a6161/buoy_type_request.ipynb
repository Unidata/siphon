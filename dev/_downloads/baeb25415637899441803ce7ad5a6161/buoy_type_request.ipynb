{
  "cells": [
    {
      "cell_type": "markdown",
      "metadata": {},
      "source": [
        "\n# NDBC Buoy Data Request (of any type)\n\nThe NDBC keeps a 40-day recent rolling file for each buoy. This examples shows how to access\nthe other types of data available for a buoy.\n"
      ]
    },
    {
      "cell_type": "code",
      "execution_count": null,
      "metadata": {
        "collapsed": false
      },
      "outputs": [],
      "source": [
        "from siphon.simplewebservice.ndbc import NDBC"
      ]
    },
    {
      "cell_type": "markdown",
      "metadata": {},
      "source": [
        "Request the types of data available from a given buoy.\n\n"
      ]
    },
    {
      "cell_type": "code",
      "execution_count": null,
      "metadata": {
        "collapsed": false
      },
      "outputs": [],
      "source": [
        "data_aval = NDBC.buoy_data_types('42012')\nprint(data_aval)"
      ]
    },
    {
      "cell_type": "markdown",
      "metadata": {},
      "source": [
        "Get a pandas data frame of all of the observations, meteorological data is the default\nobservation set to query.\n\n"
      ]
    },
    {
      "cell_type": "code",
      "execution_count": null,
      "metadata": {
        "collapsed": false
      },
      "outputs": [],
      "source": [
        "df = NDBC.realtime_observations('42012', data_type='supl')\ndf.head()"
      ]
    }
  ],
  "metadata": {
    "kernelspec": {
      "display_name": "Python 3",
      "language": "python",
      "name": "python3"
    },
    "language_info": {
      "codemirror_mode": {
        "name": "ipython",
        "version": 3
      },
      "file_extension": ".py",
      "mimetype": "text/x-python",
      "name": "python",
      "nbconvert_exporter": "python",
      "pygments_lexer": "ipython3",
      "version": "3.14.0"
    }
  },
  "nbformat": 4,
  "nbformat_minor": 0
}