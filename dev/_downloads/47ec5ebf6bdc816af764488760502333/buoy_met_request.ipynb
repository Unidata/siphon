{
  "cells": [
    {
      "cell_type": "markdown",
      "metadata": {},
      "source": [
        "\n# NDBC Buoy Meteorological Data Request\n\nThe NDBC keeps a 45-day recent rolling file for each buoy. This examples shows how to access\nthe basic meteorological data from a buoy and make a simple plot.\n"
      ]
    },
    {
      "cell_type": "code",
      "execution_count": null,
      "metadata": {
        "collapsed": false
      },
      "outputs": [],
      "source": [
        "import matplotlib.pyplot as plt\n\nfrom siphon.simplewebservice.ndbc import NDBC"
      ]
    },
    {
      "cell_type": "markdown",
      "metadata": {},
      "source": [
        "Get a pandas data frame of all of the observations, meteorological data is the default\nobservation set to query.\n\n"
      ]
    },
    {
      "cell_type": "code",
      "execution_count": null,
      "metadata": {
        "collapsed": false
      },
      "outputs": [],
      "source": [
        "df = NDBC.realtime_observations('46006')\ndf.head()"
      ]
    },
    {
      "cell_type": "markdown",
      "metadata": {},
      "source": [
        "Let's make a simple time series plot to checkout what the data look like.\n\n"
      ]
    },
    {
      "cell_type": "code",
      "execution_count": null,
      "metadata": {
        "collapsed": false
      },
      "outputs": [],
      "source": [
        "fig, (ax1, ax2, ax3) = plt.subplots(3, 1, figsize=(12, 10))\nax2b = ax2.twinx()\n\n# Pressure\nax1.plot(df['time'], df['pressure'], color='black')\nax1.set_ylabel('Pressure [hPa]')\n\n# Wind speed, gust, direction\nax2.plot(df['time'], df['wind_speed'], color='tab:orange')\nax2.plot(df['time'], df['wind_gust'], color='tab:olive', linestyle='--')\nax2b.plot(df['time'], df['wind_direction'], color='tab:blue', linestyle='-')\nax2.set_ylabel('Wind Speed [m/s]')\nax2b.set_ylabel('Wind Direction')\n\n# Water temperature\nax3.plot(df['time'], df['water_temperature'], color='tab:brown')\nax3.set_ylabel('Water Temperature [degC]')\n\nplt.show()"
      ]
    }
  ],
  "metadata": {
    "kernelspec": {
      "display_name": "Python 3",
      "language": "python",
      "name": "python3"
    },
    "language_info": {
      "codemirror_mode": {
        "name": "ipython",
        "version": 3
      },
      "file_extension": ".py",
      "mimetype": "text/x-python",
      "name": "python",
      "nbconvert_exporter": "python",
      "pygments_lexer": "ipython3",
      "version": "3.11.11"
    }
  },
  "nbformat": 4,
  "nbformat_minor": 0
}