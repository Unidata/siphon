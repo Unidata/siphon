{
  "cells": [
    {
      "cell_type": "markdown",
      "metadata": {},
      "source": [
        "\n# Basic NCSS\n\nUse Siphon to query the NetCDF Subset Service (NCSS).\n"
      ]
    },
    {
      "cell_type": "code",
      "execution_count": null,
      "metadata": {
        "collapsed": false
      },
      "outputs": [],
      "source": [
        "from datetime import datetime, timezone\n\nimport matplotlib.pyplot as plt\n\nfrom siphon.catalog import TDSCatalog"
      ]
    },
    {
      "cell_type": "markdown",
      "metadata": {},
      "source": [
        "First we construct a TDSCatalog instance pointing to our dataset of interest, in\nthis case TDS' \"Best\" virtual dataset for the GFS global 0.5 degree collection of\nGRIB files. We see this catalog contains a single dataset.\n\n"
      ]
    },
    {
      "cell_type": "code",
      "execution_count": null,
      "metadata": {
        "collapsed": false
      },
      "outputs": [],
      "source": [
        "best_gfs = TDSCatalog('http://thredds.ucar.edu/thredds/catalog/grib/NCEP/GFS/'\n                      'Global_0p5deg/catalog.xml?dataset=grib/NCEP/GFS/Global_0p5deg/Best')\nprint(best_gfs.datasets)"
      ]
    },
    {
      "cell_type": "markdown",
      "metadata": {},
      "source": [
        "We pull out this dataset and get the NCSS access point\n\n"
      ]
    },
    {
      "cell_type": "code",
      "execution_count": null,
      "metadata": {
        "collapsed": false
      },
      "outputs": [],
      "source": [
        "best_ds = best_gfs.datasets[0]\nncss = best_ds.subset()"
      ]
    },
    {
      "cell_type": "markdown",
      "metadata": {},
      "source": [
        "We can then use the `ncss` object to create a new query object, which\nfacilitates asking for data from the server.\n\n"
      ]
    },
    {
      "cell_type": "code",
      "execution_count": null,
      "metadata": {
        "collapsed": false
      },
      "outputs": [],
      "source": [
        "query = ncss.query()"
      ]
    },
    {
      "cell_type": "markdown",
      "metadata": {},
      "source": [
        "We construct a query asking for data corresponding to latitude 40N and longitude 105W,\nfor the current time. We also ask for NetCDF version 4 data, for the variables\n'Temperature_isobaric' and 'Relative_humidity_isobaric'. This request will return all\nvertical levels for a single point and single time. Note the string representation of\nthe query is a properly encoded query string.\n\n"
      ]
    },
    {
      "cell_type": "code",
      "execution_count": null,
      "metadata": {
        "collapsed": false
      },
      "outputs": [],
      "source": [
        "query.lonlat_point(-105, 40).time(datetime.now(timezone.utc))\nquery.accept('netcdf4')\nquery.variables('Temperature_isobaric', 'Relative_humidity_isobaric')"
      ]
    },
    {
      "cell_type": "markdown",
      "metadata": {},
      "source": [
        "We now request data from the server using this query. The `NCSS` class handles parsing\nthis NetCDF data (using the ``netCDF4`` module). If we print out the variable names,\nwe see our requested variables, as well as a few others (more metadata information)\n\n"
      ]
    },
    {
      "cell_type": "code",
      "execution_count": null,
      "metadata": {
        "collapsed": false
      },
      "outputs": [],
      "source": [
        "data = ncss.get_data(query)\nlist(data.variables)"
      ]
    },
    {
      "cell_type": "markdown",
      "metadata": {},
      "source": [
        "We'll pull out the variables we want to use, as well as the pressure values. To get the\nname of the correct variable for pressure (which matches the levels for temperature and\nrelative humidity, we look at the `coordinates` attribute. The last of the variables\nlisted in `coordinates` is the pressure dimension.\n\n"
      ]
    },
    {
      "cell_type": "code",
      "execution_count": null,
      "metadata": {
        "collapsed": false
      },
      "outputs": [],
      "source": [
        "temp = data.variables['Temperature_isobaric']\nrelh = data.variables['Relative_humidity_isobaric']\nvert_name = relh.coordinates.split()[-1]\nvert = data.variables[vert_name]\npress_vals = vert[:].squeeze()\n\n# Due to a different number of vertical levels find where they are common"
      ]
    },
    {
      "cell_type": "markdown",
      "metadata": {},
      "source": [
        "Now we can plot these up using matplotlib.\n\n"
      ]
    },
    {
      "cell_type": "code",
      "execution_count": null,
      "metadata": {
        "collapsed": false
      },
      "outputs": [],
      "source": [
        "fig, ax = plt.subplots(1, 1, figsize=(9, 8))\nax.plot(temp[:].squeeze(), press_vals, 'r', linewidth=2)\nax.set_xlabel(f'Temperature ({temp.units})')\nax.set_ylabel(f'{vert_name} ({vert.units})')\n\n# Create second plot with shared y-axis\nax2 = plt.twiny(ax)\nax2.plot(relh[:].squeeze(), press_vals, 'g', linewidth=2)\nax2.set_xlabel(f'Relative Humidity ({relh.units})')\nax.set_ylim(press_vals.max(), press_vals.min())\nax.grid(True)\n\nplt.show()"
      ]
    }
  ],
  "metadata": {
    "kernelspec": {
      "display_name": "Python 3",
      "language": "python",
      "name": "python3"
    },
    "language_info": {
      "codemirror_mode": {
        "name": "ipython",
        "version": 3
      },
      "file_extension": ".py",
      "mimetype": "text/x-python",
      "name": "python",
      "nbconvert_exporter": "python",
      "pygments_lexer": "ipython3",
      "version": "3.11.11"
    }
  },
  "nbformat": 4,
  "nbformat_minor": 0
}