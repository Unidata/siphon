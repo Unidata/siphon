{
  "cells": [
    {
      "cell_type": "markdown",
      "metadata": {},
      "source": [
        "\n# NDBC Latest Data Request\n\nThis example shows how to use siphon's `simplewebswervice` support query the most recent\nobservations from all of the NDBC buoys at once.\n"
      ]
    },
    {
      "cell_type": "code",
      "execution_count": null,
      "metadata": {
        "collapsed": false
      },
      "outputs": [],
      "source": [
        "import cartopy.crs as ccrs\nimport cartopy.feature as cfeature\nimport matplotlib.pyplot as plt\n\nfrom siphon.simplewebservice.ndbc import NDBC"
      ]
    },
    {
      "cell_type": "markdown",
      "metadata": {},
      "source": [
        "Get a pandas data frame of all of the observations\n\n"
      ]
    },
    {
      "cell_type": "code",
      "execution_count": null,
      "metadata": {
        "collapsed": false
      },
      "outputs": [],
      "source": [
        "df = NDBC.latest_observations()\ndf.head()"
      ]
    },
    {
      "cell_type": "markdown",
      "metadata": {},
      "source": [
        "In this case I'm going to drop buoys that do not have water temperature measurements.\n\n"
      ]
    },
    {
      "cell_type": "code",
      "execution_count": null,
      "metadata": {
        "collapsed": false
      },
      "outputs": [],
      "source": [
        "df.dropna(subset=['water_temperature'], inplace=True)"
      ]
    },
    {
      "cell_type": "markdown",
      "metadata": {},
      "source": [
        "Let's make a simple plot of the buoy positions and color by water temperature\n\n"
      ]
    },
    {
      "cell_type": "code",
      "execution_count": null,
      "metadata": {
        "collapsed": false
      },
      "outputs": [],
      "source": [
        "proj = ccrs.LambertConformal(central_latitude=45., central_longitude=-100.,\n                             standard_parallels=[30, 60])\n\nfig = plt.figure(figsize=(17., 11.))\nax = plt.axes(projection=proj)\nax.coastlines('50m', edgecolor='black')\nax.add_feature(cfeature.OCEAN.with_scale('50m'))\nax.add_feature(cfeature.LAND.with_scale('50m'))\nax.set_extent([-85, -75, 25, 30], ccrs.PlateCarree())\n\nax.scatter(df['longitude'], df['latitude'], c=df['water_temperature'],\n           transform=ccrs.PlateCarree())\n\nplt.show()"
      ]
    }
  ],
  "metadata": {
    "kernelspec": {
      "display_name": "Python 3",
      "language": "python",
      "name": "python3"
    },
    "language_info": {
      "codemirror_mode": {
        "name": "ipython",
        "version": 3
      },
      "file_extension": ".py",
      "mimetype": "text/x-python",
      "name": "python",
      "nbconvert_exporter": "python",
      "pygments_lexer": "ipython3",
      "version": "3.11.11"
    }
  },
  "nbformat": 4,
  "nbformat_minor": 0
}