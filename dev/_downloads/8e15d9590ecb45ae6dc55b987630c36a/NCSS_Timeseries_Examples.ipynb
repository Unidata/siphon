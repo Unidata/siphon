{
  "cells": [
    {
      "cell_type": "markdown",
      "metadata": {},
      "source": [
        "\n# NCSS Time Series\n\nUse Siphon to query the NetCDF Subset Service for a timeseries.\n"
      ]
    },
    {
      "cell_type": "code",
      "execution_count": null,
      "metadata": {
        "collapsed": false
      },
      "outputs": [],
      "source": [
        "from datetime import datetime, timedelta, timezone\n\nimport matplotlib.pyplot as plt\nfrom netCDF4 import num2date\n\nfrom siphon.catalog import TDSCatalog"
      ]
    },
    {
      "cell_type": "markdown",
      "metadata": {},
      "source": [
        "First we construct a TDSCatalog instance pointing to our dataset of interest, in\nthis case TDS' \"Best\" virtual dataset for the GFS global 0.5 degree collection of\nGRIB files. We see this catalog contains a single dataset.\n\n"
      ]
    },
    {
      "cell_type": "code",
      "execution_count": null,
      "metadata": {
        "collapsed": false
      },
      "outputs": [],
      "source": [
        "best_gfs = TDSCatalog('http://thredds.ucar.edu/thredds/catalog/grib/NCEP/GFS/'\n                      'Global_0p5deg/catalog.xml?dataset=grib/NCEP/GFS/Global_0p5deg/Best')\nprint(best_gfs.datasets)"
      ]
    },
    {
      "cell_type": "markdown",
      "metadata": {},
      "source": [
        "We pull out this dataset and get the NCSS access point\n\n"
      ]
    },
    {
      "cell_type": "code",
      "execution_count": null,
      "metadata": {
        "collapsed": false
      },
      "outputs": [],
      "source": [
        "best_ds = best_gfs.datasets[0]\nncss = best_ds.subset()"
      ]
    },
    {
      "cell_type": "markdown",
      "metadata": {},
      "source": [
        "We can then use the `ncss` object to create a new query object, which\nfacilitates asking for data from the server.\n\n"
      ]
    },
    {
      "cell_type": "code",
      "execution_count": null,
      "metadata": {
        "collapsed": false
      },
      "outputs": [],
      "source": [
        "query = ncss.query()"
      ]
    },
    {
      "cell_type": "markdown",
      "metadata": {},
      "source": [
        "We construct a query asking for data corresponding to latitude 40N and longitude 105W,\nfor the next 7 days. We also ask for NetCDF version 4 data, for the variable\n'Temperature_isobaric', at the vertical level of 100000 Pa (approximately surface).\nThis request will return all times in the range for a single point. Note the string\nrepresentation of the query is a properly encoded query string.\n\n"
      ]
    },
    {
      "cell_type": "code",
      "execution_count": null,
      "metadata": {
        "collapsed": false
      },
      "outputs": [],
      "source": [
        "now = datetime.now(timezone.utc)\nquery.lonlat_point(-105, 40).vertical_level(100000).time_range(now, now + timedelta(days=7))\nquery.variables('Temperature_isobaric').accept('netcdf')"
      ]
    },
    {
      "cell_type": "markdown",
      "metadata": {},
      "source": [
        "We now request data from the server using this query. The `NCSS` class handles parsing\nthis NetCDF data (using the ``netCDF4`` module). If we print out the variable names, we\nsee our requested variables, as well as a few others (more metadata information)\n\n"
      ]
    },
    {
      "cell_type": "code",
      "execution_count": null,
      "metadata": {
        "collapsed": false
      },
      "outputs": [],
      "source": [
        "data = ncss.get_data(query)\nlist(data.variables)"
      ]
    },
    {
      "cell_type": "markdown",
      "metadata": {},
      "source": [
        "We'll pull out the temperature  and time variables.\n\n"
      ]
    },
    {
      "cell_type": "code",
      "execution_count": null,
      "metadata": {
        "collapsed": false
      },
      "outputs": [],
      "source": [
        "temp = data.variables['Temperature_isobaric']\ntime = data.variables['time']"
      ]
    },
    {
      "cell_type": "markdown",
      "metadata": {},
      "source": [
        "The time values are in hours relative to the start of the entire model collection.\nFortunately, the ``netCDF4`` module has a helper function to convert these numbers into\nPython `datetime` objects. We can see the first 5 element output by the function look\nreasonable.\n\n"
      ]
    },
    {
      "cell_type": "code",
      "execution_count": null,
      "metadata": {
        "collapsed": false
      },
      "outputs": [],
      "source": [
        "time_vals = num2date(time[:].squeeze(), time.units, only_use_cftime_datetimes=False)\nprint(time_vals[:5])"
      ]
    },
    {
      "cell_type": "markdown",
      "metadata": {},
      "source": [
        "Now we can plot these up using matplotlib, which has ready-made support for `datetime`\nobjects.\n\n"
      ]
    },
    {
      "cell_type": "code",
      "execution_count": null,
      "metadata": {
        "collapsed": false
      },
      "outputs": [],
      "source": [
        "fig, ax = plt.subplots(1, 1, figsize=(9, 8))\nax.plot(time_vals, temp[:].squeeze(), 'r', linewidth=2)\nax.set_ylabel(f'Temperature ({temp.units})')\nax.set_xlabel('Forecast Time (UTC)')\nax.grid(True)"
      ]
    }
  ],
  "metadata": {
    "kernelspec": {
      "display_name": "Python 3",
      "language": "python",
      "name": "python3"
    },
    "language_info": {
      "codemirror_mode": {
        "name": "ipython",
        "version": 3
      },
      "file_extension": ".py",
      "mimetype": "text/x-python",
      "name": "python",
      "nbconvert_exporter": "python",
      "pygments_lexer": "ipython3",
      "version": "3.11.11"
    }
  },
  "nbformat": 4,
  "nbformat_minor": 0
}