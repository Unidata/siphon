{
  "cells": [
    {
      "cell_type": "markdown",
      "metadata": {},
      "source": [
        "\n# THREDDS Catalog\n\nRead a catalog from THREDDS Data Server.\n\nThis example grabs a remote catalog and prints out the catalog references\ncontained within.\n"
      ]
    },
    {
      "cell_type": "code",
      "execution_count": null,
      "metadata": {
        "collapsed": false
      },
      "outputs": [],
      "source": [
        "# This is currently a placeholder for a better example\nfrom siphon.catalog import TDSCatalog\nfrom siphon.http_util import session_manager"
      ]
    },
    {
      "cell_type": "code",
      "execution_count": null,
      "metadata": {
        "collapsed": false
      },
      "outputs": [],
      "source": [
        "cat = TDSCatalog('http://thredds.ucar.edu/thredds/catalog.xml')\nprint(list(cat.catalog_refs))"
      ]
    },
    {
      "cell_type": "markdown",
      "metadata": {},
      "source": [
        "Basic HTTP authentication can also be used by using the HTTP session manager\nand setting some default options for HTTP sessions\n\n"
      ]
    },
    {
      "cell_type": "code",
      "execution_count": null,
      "metadata": {
        "collapsed": false
      },
      "outputs": [],
      "source": [
        "session_manager.set_session_options(auth=('username', 'password'))\ncat = TDSCatalog('https://thredds.rda.ucar.edu/thredds/catalog/catalog.xml')"
      ]
    }
  ],
  "metadata": {
    "kernelspec": {
      "display_name": "Python 3",
      "language": "python",
      "name": "python3"
    },
    "language_info": {
      "codemirror_mode": {
        "name": "ipython",
        "version": 3
      },
      "file_extension": ".py",
      "mimetype": "text/x-python",
      "name": "python",
      "nbconvert_exporter": "python",
      "pygments_lexer": "ipython3",
      "version": "3.11.11"
    }
  },
  "nbformat": 4,
  "nbformat_minor": 0
}